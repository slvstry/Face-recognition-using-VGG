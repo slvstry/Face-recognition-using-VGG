{
 "cells": [
  {
   "cell_type": "code",
   "execution_count": 8,
   "id": "2232e28d-c633-414c-a8e1-be5f6ec2e75b",
   "metadata": {},
   "outputs": [
    {
     "name": "stdout",
     "output_type": "stream",
     "text": [
      "Comparing d:/datasets/tfw6/test/S132/131_2_2_2_140_47_3.png with d:/datasets/tfw6/test/users\\131_1_1_1_450_3_m.png: Distance = 0.0023, Match = True\n",
      "Comparing d:/datasets/tfw6/test/S132/131_2_2_2_140_47_3.png with d:/datasets/tfw6/test/users\\132_1_1_1_1_3_m.png: Distance = 0.0201, Match = False\n",
      "Comparing d:/datasets/tfw6/test/S132/131_2_2_2_140_47_3.png with d:/datasets/tfw6/test/users\\133_1_1_1_1_3.png: Distance = 0.0208, Match = False\n"
     ]
    }
   ],
   "source": [
    "import torch\n",
    "import torch.nn as nn\n",
    "import torchvision.transforms as transforms\n",
    "from torchvision import datasets\n",
    "from facenet_pytorch import InceptionResnetV1\n",
    "from PIL import Image\n",
    "import os\n",
    "\n",
    "# Siamese network for create embeddings\n",
    "class SiameseNetwork(nn.Module):\n",
    "    def __init__(self):\n",
    "        super(SiameseNetwork, self).__init__()\n",
    "        self.facenet = InceptionResnetV1(pretrained='vggface2')\n",
    "        self.fc = nn.Sequential(\n",
    "            nn.Linear(512, 256),\n",
    "            nn.ReLU(),\n",
    "            nn.Linear(256, 128)\n",
    "        )\n",
    "\n",
    "    def forward(self, input1):\n",
    "        output1 = self.facenet(input1)\n",
    "        output1 = self.fc(output1)\n",
    "        return output1\n",
    "\n",
    "# Pretrained model loading\n",
    "device = torch.device('cuda' if torch.cuda.is_available() else 'cpu')\n",
    "model = SiameseNetwork().to(device)\n",
    "model.eval()  # Переключение модели в режим оценки\n",
    "\n",
    "# Verification function\n",
    "def verify_user(img1_path, database_folder, model, transform, threshold=.01):\n",
    "    img1 = Image.open(img1_path)\n",
    "    img1 = transform(img1).unsqueeze(0).to(device)\n",
    "    \n",
    "    with torch.no_grad():\n",
    "        output1 = model(img1)\n",
    "\n",
    "        for root, _, files in os.walk(database_folder):\n",
    "            for file in files:\n",
    "                img2_path = os.path.join(root, file)\n",
    "                img2 = Image.open(img2_path)\n",
    "                img2 = transform(img2).unsqueeze(0).to(device)\n",
    "                output2 = model(img2)\n",
    "                distance = (output1 - output2).pow(2).sum().item()\n",
    "                is_match = distance < threshold\n",
    "                print(f'Comparing {img1_path} with {img2_path}: Distance = {distance:.4f}, Match = {is_match}')\n",
    "\n",
    "# Path to images\n",
    "comparison_image_path = 'path_to_the_image_for_comparison'\n",
    "database_path = 'path_to_your_user_base'\n",
    "\n",
    "# Images transformation\n",
    "transformation = transforms.Compose([\n",
    "    transforms.Resize((160, 160)),\n",
    "    transforms.ToTensor(),\n",
    "    transforms.Normalize(mean=[0.5, 0.5, 0.5], std=[0.5, 0.5, 0.5])\n",
    "])\n",
    "\n",
    "# Verication test\n",
    "verify_user(comparison_image_path, database_path, model, transformation)\n"
   ]
  },
  {
   "cell_type": "code",
   "execution_count": null,
   "id": "e607a944-c55d-4128-9845-fbf55a675c6a",
   "metadata": {},
   "outputs": [],
   "source": []
  }
 ],
 "metadata": {
  "kernelspec": {
   "display_name": "Python 3 (ipykernel)",
   "language": "python",
   "name": "python3"
  },
  "language_info": {
   "codemirror_mode": {
    "name": "ipython",
    "version": 3
   },
   "file_extension": ".py",
   "mimetype": "text/x-python",
   "name": "python",
   "nbconvert_exporter": "python",
   "pygments_lexer": "ipython3",
   "version": "3.8.18"
  }
 },
 "nbformat": 4,
 "nbformat_minor": 5
}
